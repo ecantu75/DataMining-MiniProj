{
 "cells": [
  {
   "cell_type": "markdown",
   "metadata": {},
   "source": [
    "# MSDS 7331 Mini - Project 1  \n",
    "\n",
    "## SVM and Logistic Modeling\n",
    "\n",
    "Professor: Dr. Jake Drew  \n",
    "Team: Steven Hayden, Josephine MacDaniel, Korey MacVittie, Afreen Siddiqui, Eduardo Cantu"
   ]
  },
  {
   "cell_type": "markdown",
   "metadata": {},
   "source": [
    "## Models"
   ]
  },
  {
   "cell_type": "code",
   "execution_count": 1,
   "metadata": {},
   "outputs": [],
   "source": [
    "#load Libraries\n",
    "import pandas as pd\n",
    "import numpy as np\n",
    "import seaborn as seaborn\n",
    "import matplotlib.pyplot as plt\n",
    "import matplotlib as mp1\n",
    "from sklearn import datasets, linear_model\n",
    "from sklearn.metrics import mean_squared_error, r2_score\n",
    "\n",
    "\n",
    "#Load Data\n",
    "Accident_df = pd.read_csv('https://raw.githubusercontent.com/ecantu75/DataMining_Lab1/master/Data/accident_2016.csv',low_memory=False)"
   ]
  },
  {
   "cell_type": "markdown",
   "metadata": {},
   "source": [
    "### Data Cleaning"
   ]
  },
  {
   "cell_type": "code",
   "execution_count": 4,
   "metadata": {},
   "outputs": [
    {
     "name": "stdout",
     "output_type": "stream",
     "text": [
      "<class 'pandas.core.frame.DataFrame'>\n",
      "Int64Index: 15855 entries, 1 to 34438\n",
      "Data columns (total 75 columns):\n",
      "Unnamed: 0                                                     15855 non-null int64\n",
      "state_number                                                   15855 non-null int64\n",
      "state_name                                                     15855 non-null object\n",
      "consecutive_number                                             15855 non-null int64\n",
      "number_of_vehicle_forms_submitted_all                          15855 non-null int64\n",
      "number_of_motor_vehicles_in_transport_mvit                     15855 non-null int64\n",
      "number_of_parked_working_vehicles                              15855 non-null int64\n",
      "number_of_forms_submitted_for_persons_not_in_motor_vehicles    15855 non-null int64\n",
      "number_of_persons_not_in_motor_vehicles_in_transport_mvit      15855 non-null int64\n",
      "number_of_persons_in_motor_vehicles_in_transport_mvit          15855 non-null int64\n",
      "number_of_forms_submitted_for_persons_in_motor_vehicles        15855 non-null int64\n",
      "county                                                         15855 non-null int64\n",
      "city                                                           15855 non-null int64\n",
      "day_of_crash                                                   15855 non-null int64\n",
      "month_of_crash                                                 15855 non-null int64\n",
      "year_of_crash                                                  15855 non-null int64\n",
      "day_of_week                                                    15855 non-null int64\n",
      "hour_of_crash                                                  15855 non-null timedelta64[ns]\n",
      "minute_of_crash                                                15855 non-null timedelta64[ns]\n",
      "national_highway_system                                        15855 non-null int64\n",
      "land_use                                                       15855 non-null int64\n",
      "land_use_name                                                  15855 non-null object\n",
      "functional_system                                              15855 non-null int64\n",
      "functional_system_name                                         15855 non-null object\n",
      "ownership                                                      15855 non-null int64\n",
      "ownership_name                                                 15855 non-null object\n",
      "route_signing                                                  15855 non-null int64\n",
      "route_signing_name                                             15855 non-null object\n",
      "trafficway_identifier                                          15855 non-null object\n",
      "trafficway_identifier_2                                        4010 non-null object\n",
      "milepoint                                                      15855 non-null int64\n",
      "latitude                                                       15855 non-null float64\n",
      "longitude                                                      15855 non-null float64\n",
      "special_jurisdiction                                           15855 non-null int64\n",
      "special_jurisdiction_name                                      15855 non-null object\n",
      "first_harmful_event                                            15855 non-null int64\n",
      "first_harmful_event_name                                       15855 non-null object\n",
      "manner_of_collision                                            15855 non-null int64\n",
      "manner_of_collision_name                                       15855 non-null object\n",
      "relation_to_junction_within_interchange_area                   15855 non-null object\n",
      "relation_to_junction_specific_location                         15855 non-null int64\n",
      "relation_to_junction_specific_location_name                    15855 non-null object\n",
      "type_of_intersection                                           15855 non-null object\n",
      "work_zone                                                      15855 non-null object\n",
      "relation_to_trafficway                                         15855 non-null int64\n",
      "relation_to_trafficway_name                                    15855 non-null object\n",
      "light_condition                                                15855 non-null int64\n",
      "light_condition_name                                           15855 non-null object\n",
      "atmospheric_conditions_1                                       15855 non-null int64\n",
      "atmospheric_conditions_1_name                                  15855 non-null object\n",
      "atmospheric_conditions_2                                       15855 non-null int64\n",
      "atmospheric_conditions_2_name                                  15855 non-null object\n",
      "atmospheric_conditions                                         15855 non-null int64\n",
      "atmospheric_conditions_name                                    15855 non-null object\n",
      "school_bus_related                                             15855 non-null object\n",
      "rail_grade_crossing_identifier                                 15855 non-null object\n",
      "hour_of_notification                                           15855 non-null int64\n",
      "minute_of_notification                                         15855 non-null int64\n",
      "hour_of_arrival_at_scene                                       15855 non-null timedelta64[ns]\n",
      "minute_of_arrival_at_scene                                     15855 non-null timedelta64[ns]\n",
      "hour_of_ems_arrival_at_hospital                                15855 non-null int64\n",
      "minute_of_ems_arrival_at_hospital                              15855 non-null int64\n",
      "related_factors_crash_level_1                                  15855 non-null int64\n",
      "related_factors_crash_level_1_name                             15855 non-null object\n",
      "related_factors_crash_level_2                                  15855 non-null int64\n",
      "related_factors_crash_level_2_name                             15855 non-null object\n",
      "related_factors_crash_level_3                                  15855 non-null int64\n",
      "related_factors_crash_level_3_name                             15855 non-null object\n",
      "number_of_fatalities                                           15855 non-null int64\n",
      "number_of_drunk_drivers                                        15855 non-null int64\n",
      "timestamp_of_crash                                             15855 non-null object\n",
      "Fatalities_ratio                                               15855 non-null float64\n",
      "Crash_Time                                                     15855 non-null timedelta64[ns]\n",
      "Arrival_Time                                                   15855 non-null timedelta64[ns]\n",
      "Response_Time                                                  15855 non-null timedelta64[ns]\n",
      "dtypes: float64(3), int64(40), object(25), timedelta64[ns](7)\n",
      "memory usage: 9.2+ MB\n"
     ]
    }
   ],
   "source": [
    "# Displays the record count of non-null Values per attribute and their data type. \n",
    "Accident_df.info()"
   ]
  },
  {
   "cell_type": "code",
   "execution_count": 11,
   "metadata": {},
   "outputs": [
    {
     "data": {
      "text/plain": [
       "31"
      ]
     },
     "execution_count": 11,
     "metadata": {},
     "output_type": "execute_result"
    }
   ],
   "source": [
    "Accident_df['day_of_crash'].max()"
   ]
  },
  {
   "cell_type": "code",
   "execution_count": 2,
   "metadata": {},
   "outputs": [
    {
     "name": "stdout",
     "output_type": "stream",
     "text": [
      "18584 records were removed due to missing time data.\n"
     ]
    }
   ],
   "source": [
    "#Remove any recoreds without  time informaiton for arival and crash time\n",
    "count_no_rec= Accident_df[(Accident_df['hour_of_crash']>24) | (Accident_df['hour_of_arrival_at_scene']>24)]\n",
    "Accident_df = Accident_df[(Accident_df['hour_of_crash']<=24) & (Accident_df['hour_of_arrival_at_scene']<=24)]\n",
    "print(count_no_rec.consecutive_number.count(), 'records were removed due to missing time data.') \n"
   ]
  },
  {
   "cell_type": "code",
   "execution_count": 3,
   "metadata": {},
   "outputs": [
    {
     "data": {
      "text/html": [
       "<div>\n",
       "<style scoped>\n",
       "    .dataframe tbody tr th:only-of-type {\n",
       "        vertical-align: middle;\n",
       "    }\n",
       "\n",
       "    .dataframe tbody tr th {\n",
       "        vertical-align: top;\n",
       "    }\n",
       "\n",
       "    .dataframe thead th {\n",
       "        text-align: right;\n",
       "    }\n",
       "</style>\n",
       "<table border=\"1\" class=\"dataframe\">\n",
       "  <thead>\n",
       "    <tr style=\"text-align: right;\">\n",
       "      <th></th>\n",
       "      <th>hour_of_crash</th>\n",
       "      <th>minute_of_crash</th>\n",
       "      <th>Crash_Time</th>\n",
       "      <th>hour_of_arrival_at_scene</th>\n",
       "      <th>minute_of_arrival_at_scene</th>\n",
       "      <th>Arrival_Time</th>\n",
       "      <th>Response_Time</th>\n",
       "    </tr>\n",
       "  </thead>\n",
       "  <tbody>\n",
       "    <tr>\n",
       "      <th>1</th>\n",
       "      <td>02:00:00</td>\n",
       "      <td>00:33:00</td>\n",
       "      <td>02:33:00</td>\n",
       "      <td>03:00:00</td>\n",
       "      <td>00:25:00</td>\n",
       "      <td>03:25:00</td>\n",
       "      <td>00:52:00</td>\n",
       "    </tr>\n",
       "    <tr>\n",
       "      <th>12</th>\n",
       "      <td>01:00:00</td>\n",
       "      <td>00:39:00</td>\n",
       "      <td>01:39:00</td>\n",
       "      <td>01:00:00</td>\n",
       "      <td>00:46:00</td>\n",
       "      <td>01:46:00</td>\n",
       "      <td>00:07:00</td>\n",
       "    </tr>\n",
       "    <tr>\n",
       "      <th>33</th>\n",
       "      <td>18:00:00</td>\n",
       "      <td>00:58:00</td>\n",
       "      <td>18:58:00</td>\n",
       "      <td>18:00:00</td>\n",
       "      <td>00:31:00</td>\n",
       "      <td>18:31:00</td>\n",
       "      <td>-1 days +23:33:00</td>\n",
       "    </tr>\n",
       "    <tr>\n",
       "      <th>40</th>\n",
       "      <td>20:00:00</td>\n",
       "      <td>00:00:00</td>\n",
       "      <td>20:00:00</td>\n",
       "      <td>19:00:00</td>\n",
       "      <td>00:38:00</td>\n",
       "      <td>19:38:00</td>\n",
       "      <td>-1 days +23:38:00</td>\n",
       "    </tr>\n",
       "    <tr>\n",
       "      <th>54</th>\n",
       "      <td>19:00:00</td>\n",
       "      <td>00:26:00</td>\n",
       "      <td>19:26:00</td>\n",
       "      <td>19:00:00</td>\n",
       "      <td>00:39:00</td>\n",
       "      <td>19:39:00</td>\n",
       "      <td>00:13:00</td>\n",
       "    </tr>\n",
       "  </tbody>\n",
       "</table>\n",
       "</div>"
      ],
      "text/plain": [
       "   hour_of_crash minute_of_crash Crash_Time hour_of_arrival_at_scene  \\\n",
       "1       02:00:00        00:33:00   02:33:00                 03:00:00   \n",
       "12      01:00:00        00:39:00   01:39:00                 01:00:00   \n",
       "33      18:00:00        00:58:00   18:58:00                 18:00:00   \n",
       "40      20:00:00        00:00:00   20:00:00                 19:00:00   \n",
       "54      19:00:00        00:26:00   19:26:00                 19:00:00   \n",
       "\n",
       "   minute_of_arrival_at_scene Arrival_Time     Response_Time  \n",
       "1                    00:25:00     03:25:00          00:52:00  \n",
       "12                   00:46:00     01:46:00          00:07:00  \n",
       "33                   00:31:00     18:31:00 -1 days +23:33:00  \n",
       "40                   00:38:00     19:38:00 -1 days +23:38:00  \n",
       "54                   00:39:00     19:39:00          00:13:00  "
      ]
     },
     "execution_count": 3,
     "metadata": {},
     "output_type": "execute_result"
    }
   ],
   "source": [
    "# Add a new Feature. This is the ratio between the number of fatalities and the people involved in the accident.\n",
    "Accident_df['Fatalities_ratio'] = Accident_df.number_of_fatalities/(Accident_df.number_of_persons_not_in_motor_vehicles_in_transport_mvit + Accident_df.number_of_persons_in_motor_vehicles_in_transport_mvit)\n",
    "\n",
    "#Converts Hour and min to datetime type\n",
    "Accident_df.hour_of_crash = pd.to_timedelta(Accident_df.hour_of_crash,unit ='h')\n",
    "Accident_df.minute_of_crash= pd.to_timedelta(Accident_df.minute_of_crash,unit ='m')\n",
    "Accident_df.hour_of_arrival_at_scene = pd.to_timedelta(Accident_df.hour_of_arrival_at_scene,unit ='h')\n",
    "Accident_df.minute_of_arrival_at_scene = pd.to_timedelta(Accident_df.minute_of_arrival_at_scene,unit ='m')\n",
    "\n",
    "#concatenates Hour and Minutes together \n",
    "Accident_df['Crash_Time'] = Accident_df['hour_of_crash'] + Accident_df['minute_of_crash'] \n",
    "Accident_df['Arrival_Time'] = Accident_df['hour_of_arrival_at_scene'] + Accident_df['minute_of_arrival_at_scene']\n",
    "#creates a response_time variable from the two fields above\n",
    "Accident_df['Response_Time'] = Accident_df['Arrival_Time'] - Accident_df['Crash_Time']\n",
    "\n",
    "#gut check of calculation \n",
    "Accident_df[['hour_of_crash','minute_of_crash','Crash_Time','hour_of_arrival_at_scene','minute_of_arrival_at_scene','Arrival_Time','Response_Time']].head()\n",
    "\n"
   ]
  },
  {
   "cell_type": "markdown",
   "metadata": {},
   "source": [
    "### Logistic Regression Model"
   ]
  },
  {
   "cell_type": "markdown",
   "metadata": {},
   "source": [
    "### Support Vector Machine Model"
   ]
  },
  {
   "cell_type": "markdown",
   "metadata": {},
   "source": [
    "## Model Discussion"
   ]
  },
  {
   "cell_type": "markdown",
   "metadata": {},
   "source": [
    "## Logistic Regression Weight Interpretation"
   ]
  },
  {
   "cell_type": "markdown",
   "metadata": {},
   "source": [
    "## Insights based on the Classification Task"
   ]
  },
  {
   "cell_type": "code",
   "execution_count": null,
   "metadata": {},
   "outputs": [],
   "source": []
  }
 ],
 "metadata": {
  "kernelspec": {
   "display_name": "Python 3",
   "language": "python",
   "name": "python3"
  },
  "language_info": {
   "codemirror_mode": {
    "name": "ipython",
    "version": 3
   },
   "file_extension": ".py",
   "mimetype": "text/x-python",
   "name": "python",
   "nbconvert_exporter": "python",
   "pygments_lexer": "ipython3",
   "version": "3.6.5"
  }
 },
 "nbformat": 4,
 "nbformat_minor": 2
}
